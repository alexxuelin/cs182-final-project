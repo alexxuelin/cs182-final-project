{
 "cells": [
  {
   "cell_type": "code",
   "execution_count": null,
   "metadata": {
    "collapsed": false
   },
   "outputs": [],
   "source": [
    "%matplotlib inline\n",
    "import pandas as pd\n",
    "import numpy as np\n",
    "import seaborn as sns\n",
    "import matplotlib.pyplot as plt\n",
    "\n",
    "from scipy.misc import imread\n",
    "from wordcloud import WordCloud, STOPWORDS\n",
    "from nltk.corpus import stopwords \n",
    "\n",
    "import re\n",
    "import numpy as np\n",
    "import pandas as pd\n",
    "import matplotlib.pyplot as plt\n",
    "import seaborn as sns\n",
    "import plotly.offline as py\n",
    "import plotly.graph_objs as go\n",
    "import plotly.tools as tls\n",
    "from bs4 import BeautifulSoup\n",
    "\n",
    "from sklearn import metrics\n",
    "from sklearn.feature_extraction.text import TfidfTransformer, TfidfVectorizer, CountVectorizer\n",
    "from sklearn.model_selection import cross_validate\n",
    "from sklearn.model_selection import StratifiedKFold\n",
    "from sklearn.model_selection import learning_curve\n",
    "from sklearn.model_selection import train_test_split\n",
    "from sklearn.tree import DecisionTreeClassifier\n",
    "from sklearn.linear_model import LogisticRegression\n",
    "from sklearn.ensemble import ExtraTreesClassifier\n",
    "from sklearn.decomposition import TruncatedSVD\n",
    "from sklearn.pipeline import Pipeline\n",
    "from sklearn.naive_bayes import MultinomialNB\n",
    "from sklearn.ensemble import RandomForestClassifier\n",
    "from sklearn.grid_search import GridSearchCV"
   ]
  },
  {
   "cell_type": "code",
   "execution_count": 3,
   "metadata": {
    "collapsed": false
   },
   "outputs": [],
   "source": [
    "stemmed = pd.read_csv('stemmed.csv')"
   ]
  },
  {
   "cell_type": "code",
   "execution_count": 53,
   "metadata": {
    "collapsed": false,
    "scrolled": true
   },
   "outputs": [
    {
     "data": {
      "text/plain": [
       "8675"
      ]
     },
     "execution_count": 53,
     "metadata": {},
     "output_type": "execute_result"
    }
   ],
   "source": [
    "len(stemmed)"
   ]
  },
  {
   "cell_type": "code",
   "execution_count": 54,
   "metadata": {
    "collapsed": false,
    "scrolled": true
   },
   "outputs": [
    {
     "data": {
      "text/plain": [
       "8651"
      ]
     },
     "execution_count": 54,
     "metadata": {},
     "output_type": "execute_result"
    }
   ],
   "source": [
    "text = stemmed['clean_posts']\n",
    "code = stemmed['encode']\n",
    "fixed_text = text[pd.notnull(text)]\n",
    "fixed_code = code[pd.notnull(text)]\n",
    "data = pd.DataFrame({'text': fixed_text, 'code': fixed_code})\n",
    "len(data)"
   ]
  },
  {
   "cell_type": "code",
   "execution_count": 55,
   "metadata": {
    "collapsed": false
   },
   "outputs": [],
   "source": [
    "data.to_csv(\"final.csv\", encoding='utf-8', index=False)"
   ]
  },
  {
   "cell_type": "markdown",
   "metadata": {},
   "source": [
    "## Try Naive Bayes once without cross validation "
   ]
  },
  {
   "cell_type": "code",
   "execution_count": 73,
   "metadata": {
    "collapsed": true
   },
   "outputs": [],
   "source": [
    "train, test =  train_test_split(data, test_size=0.2, random_state=14)"
   ]
  },
  {
   "cell_type": "code",
   "execution_count": 100,
   "metadata": {
    "collapsed": false
   },
   "outputs": [
    {
     "data": {
      "text/plain": [
       "(6920, 92302)"
      ]
     },
     "execution_count": 100,
     "metadata": {},
     "output_type": "execute_result"
    }
   ],
   "source": [
    "count_vect = CountVectorizer()\n",
    "X_train_counts = count_vect.fit_transform(train.text)\n",
    "X_train_counts.shape"
   ]
  },
  {
   "cell_type": "code",
   "execution_count": 73,
   "metadata": {
    "collapsed": false
   },
   "outputs": [
    {
     "data": {
      "text/plain": [
       "(6920, 92302)"
      ]
     },
     "execution_count": 73,
     "metadata": {},
     "output_type": "execute_result"
    }
   ],
   "source": [
    "tfidf_transformer = TfidfTransformer()\n",
    "X_train_tfidf = tfidf_transformer.fit_transform(X_train_counts)\n",
    "X_train_tfidf.shape"
   ]
  },
  {
   "cell_type": "code",
   "execution_count": 74,
   "metadata": {
    "collapsed": false
   },
   "outputs": [],
   "source": [
    "clf = MultinomialNB().fit(X_train_tfidf, train.code)"
   ]
  },
  {
   "cell_type": "code",
   "execution_count": 75,
   "metadata": {
    "collapsed": false
   },
   "outputs": [
    {
     "data": {
      "text/plain": [
       "0.21343930635838151"
      ]
     },
     "execution_count": 75,
     "metadata": {},
     "output_type": "execute_result"
    }
   ],
   "source": [
    "train_predicted = clf.predict(X_train_tfidf)\n",
    "np.mean(train_predicted == train.code) "
   ]
  },
  {
   "cell_type": "code",
   "execution_count": 76,
   "metadata": {
    "collapsed": false
   },
   "outputs": [
    {
     "data": {
      "text/plain": [
       "0.21143847487001732"
      ]
     },
     "execution_count": 76,
     "metadata": {},
     "output_type": "execute_result"
    }
   ],
   "source": [
    "X_test_counts = count_vect.transform(test.text)\n",
    "X_test_tfidf = tfidf_transformer.transform(X_test_counts)\n",
    "test_predicted = clf.predict(X_test_tfidf)\n",
    "np.mean(test_predicted == test.code)  "
   ]
  },
  {
   "cell_type": "markdown",
   "metadata": {},
   "source": [
    "## Naive Bayes with Cross Validation\n",
    "http://scikit-learn.org/stable/tutorial/text_analytics/working_with_text_data.html"
   ]
  },
  {
   "cell_type": "code",
   "execution_count": 2,
   "metadata": {
    "collapsed": false
   },
   "outputs": [
    {
     "name": "stdout",
     "output_type": "stream",
     "text": [
      "   code                                               text\n",
      "0     8  '<URL> <URL> enfp and intj moments  <URL>  spo...\n",
      "1     3  'I'm finding the lack of me in these posts ver...\n",
      "2    11  'Good one  _____   <URL> Of course, to which I...\n",
      "3    10  'Dear INTP,   I enjoyed our conversation the o...\n",
      "4     2  'You're fired. That's another silly misconcept...\n"
     ]
    }
   ],
   "source": [
    "data = pd.read_csv('final.csv')\n",
    "print data.head()\n",
    "# train test split\n",
    "X_train, X_test, y_train, y_test= train_test_split(data.text, data.code, test_size=0.2, random_state=14)"
   ]
  },
  {
   "cell_type": "code",
   "execution_count": 7,
   "metadata": {
    "collapsed": false
   },
   "outputs": [],
   "source": [
    "np.random.seed(1)\n",
    "scoring = {'acc': 'accuracy',\n",
    "           'neg_log_loss': 'neg_log_loss',\n",
    "           'f1_micro': 'f1_micro'}\n",
    "kfolds = StratifiedKFold(n_splits=5, shuffle=True, random_state=1)\n",
    "tfidf2 = CountVectorizer(ngram_range=(1, 1), \n",
    "                         stop_words='english',\n",
    "                         lowercase = True, \n",
    "                         max_features = 5000)"
   ]
  },
  {
   "cell_type": "code",
   "execution_count": 66,
   "metadata": {
    "collapsed": true
   },
   "outputs": [],
   "source": [
    "model_nb = Pipeline([('tfidf1', tfidf2), ('nb', MultinomialNB())])\n",
    "results_nb = cross_validate(model_nb, X_train, y_train, cv=kfolds, scoring=scoring, n_jobs=-1)"
   ]
  },
  {
   "cell_type": "code",
   "execution_count": 91,
   "metadata": {
    "collapsed": false
   },
   "outputs": [
    {
     "name": "stdout",
     "output_type": "stream",
     "text": [
      "CV Accuracy: 0.5424 (+/- 0.0073)\n",
      "CV F1: 0.5424 (+/- 0.0073)\n",
      "CV Logloss: 6.3304 (+/- 0.1587)\n"
     ]
    }
   ],
   "source": [
    "print(\"CV Accuracy: {:0.4f} (+/- {:0.4f})\".format(np.mean(results_nb['test_acc']),\n",
    "                                                          np.std(results_nb['test_acc'])))\n",
    "print(\"CV F1: {:0.4f} (+/- {:0.4f})\".format(np.mean(results_nb['test_f1_micro']),\n",
    "                                                          np.std(results_nb['test_f1_micro'])))\n",
    "print(\"CV Logloss: {:0.4f} (+/- {:0.4f})\".format(np.mean(-1*results_nb['test_neg_log_loss']),\n",
    "                                                          np.std(-1*results_nb['test_neg_log_loss'])))"
   ]
  },
  {
   "cell_type": "code",
   "execution_count": 97,
   "metadata": {
    "collapsed": false
   },
   "outputs": [
    {
     "data": {
      "text/plain": [
       "0.54303870595031778"
      ]
     },
     "execution_count": 97,
     "metadata": {},
     "output_type": "execute_result"
    }
   ],
   "source": [
    "model_nb.fit(X_train, y_train)  \n",
    "test_predicted = model_nb.predict(X_test)"
   ]
  },
  {
   "cell_type": "code",
   "execution_count": 67,
   "metadata": {
    "collapsed": true
   },
   "outputs": [],
   "source": [
    "unique_type_list = ['INFJ', 'ENTP', 'INTP', 'INTJ', 'ENTJ', 'ENFJ', 'INFP', 'ENFP',\n",
    "       'ISFP', 'ISTP', 'ISFJ', 'ISTJ', 'ESTP', 'ESFP', 'ESTJ', 'ESFJ']"
   ]
  },
  {
   "cell_type": "code",
   "execution_count": 102,
   "metadata": {
    "collapsed": false
   },
   "outputs": [
    {
     "name": "stdout",
     "output_type": "stream",
     "text": [
      "             precision    recall  f1-score   support\n",
      "\n",
      "       INFJ       0.55      0.26      0.35        47\n",
      "       ENTP       0.42      0.52      0.46       130\n",
      "       INTP       0.46      0.49      0.47        45\n",
      "       INTJ       0.49      0.49      0.49       169\n",
      "       ENTJ       0.33      0.17      0.22         6\n",
      "       ENFJ       0.00      0.00      0.00        11\n",
      "       INFP       0.00      0.00      0.00         9\n",
      "       ENFP       0.29      0.08      0.12        26\n",
      "       ISFP       0.60      0.51      0.55       276\n",
      "       ISTP       0.58      0.69      0.63       367\n",
      "       ISFJ       0.58      0.57      0.57       223\n",
      "       ISTJ       0.61      0.66      0.63       249\n",
      "       ESTP       0.61      0.45      0.52        31\n",
      "       ESFP       0.22      0.21      0.21        43\n",
      "       ESTJ       0.67      0.38      0.48        42\n",
      "       ESFJ       0.43      0.51      0.46        57\n",
      "\n",
      "avg / total       0.54      0.54      0.54      1731\n",
      "\n"
     ]
    }
   ],
   "source": [
    "print(metrics.classification_report(y_test, test_predicted, target_names=unique_type_list))"
   ]
  },
  {
   "cell_type": "markdown",
   "metadata": {},
   "source": [
    "### account for class imbalance in naive bayes"
   ]
  },
  {
   "cell_type": "code",
   "execution_count": 71,
   "metadata": {
    "collapsed": false
   },
   "outputs": [
    {
     "name": "stdout",
     "output_type": "stream",
     "text": [
      "('Frequency of the elements in the List : ', Counter({9: 1828, 8: 1462, 11: 1301, 10: 1089, 3: 685, 1: 671, 15: 337, 13: 270, 2: 230, 14: 204, 0: 190, 12: 166, 7: 89, 5: 48, 4: 42, 6: 39}))\n",
      "[0.021962778869494857, 0.07756328748121605, 0.02658652178938851, 0.07918159750317882, 0.004854930065888337, 0.005548491503872385, 0.004508149346896312, 0.01028782799676338, 0.16899780372211304, 0.22286440873887411, 0.12588140099410472, 0.1503872384695411, 0.019188533117558665, 0.031210264709282162, 0.023581088891457633, 0.038955034100104036]\n"
     ]
    }
   ],
   "source": [
    "# find class weights \n",
    "import collections\n",
    "ctr = collections.Counter(data.code)\n",
    "print(\"Frequency of the elements in the List : \",ctr)\n",
    "freqs_2 = [190,671,230,685,42,48,39,89,1462,1928,1089,1301,166,270,204,337]\n",
    "class_priors_2 = [float(x) / len(data) for x in freqs_2]\n",
    "print class_priors_2"
   ]
  },
  {
   "cell_type": "code",
   "execution_count": 70,
   "metadata": {
    "collapsed": false
   },
   "outputs": [
    {
     "name": "stdout",
     "output_type": "stream",
     "text": [
      "CV Accuracy: 0.5424 (+/- 0.0075)\n",
      "CV F1: 0.5424 (+/- 0.0075)\n",
      "CV Logloss: 6.3320 (+/- 0.1589)\n",
      "             precision    recall  f1-score   support\n",
      "\n",
      "       INFJ       0.52      0.26      0.34        47\n",
      "       ENTP       0.42      0.52      0.47       130\n",
      "       INTP       0.47      0.49      0.48        45\n",
      "       INTJ       0.50      0.50      0.50       169\n",
      "       ENTJ       0.33      0.17      0.22         6\n",
      "       ENFJ       0.00      0.00      0.00        11\n",
      "       INFP       0.00      0.00      0.00         9\n",
      "       ENFP       0.25      0.08      0.12        26\n",
      "       ISFP       0.60      0.51      0.55       276\n",
      "       ISTP       0.58      0.70      0.63       367\n",
      "       ISFJ       0.58      0.57      0.57       223\n",
      "       ISTJ       0.61      0.66      0.63       249\n",
      "       ESTP       0.61      0.45      0.52        31\n",
      "       ESFP       0.23      0.21      0.22        43\n",
      "       ESTJ       0.67      0.38      0.48        42\n",
      "       ESFJ       0.43      0.51      0.47        57\n",
      "\n",
      "avg / total       0.54      0.54      0.54      1731\n",
      "\n"
     ]
    }
   ],
   "source": [
    "model_nb_prior = Pipeline([('tfidf1', tfidf2), ('nb', MultinomialNB(class_prior = class_priors_2))])\n",
    "\n",
    "results_nb_prior = cross_validate(model_nb_prior, X_train, y_train, cv=kfolds, scoring=scoring, n_jobs=-1)\n",
    "\n",
    "print(\"CV Accuracy: {:0.4f} (+/- {:0.4f})\".format(np.mean(results_nb_prior['test_acc']),\n",
    "                                                          np.std(results_nb_prior['test_acc'])))\n",
    "print(\"CV F1: {:0.4f} (+/- {:0.4f})\".format(np.mean(results_nb_prior['test_f1_micro']),\n",
    "                                                          np.std(results_nb_prior['test_f1_micro'])))\n",
    "print(\"CV Logloss: {:0.4f} (+/- {:0.4f})\".format(np.mean(-1*results_nb_prior['test_neg_log_loss']),\n",
    "                                                          np.std(-1*results_nb_prior['test_neg_log_loss'])))\n",
    "model_nb_prior.fit(X_train, y_train)  \n",
    "test_predicted_prior = model_nb_prior.predict(X_test)\n",
    "print(metrics.classification_report(y_test, test_predicted_prior, target_names=unique_type_list))"
   ]
  },
  {
   "cell_type": "markdown",
   "metadata": {},
   "source": [
    "## Logistic Regression with Cross Validation"
   ]
  },
  {
   "cell_type": "markdown",
   "metadata": {},
   "source": [
    "Logisitic regression, C = 1"
   ]
  },
  {
   "cell_type": "code",
   "execution_count": 21,
   "metadata": {
    "collapsed": false
   },
   "outputs": [
    {
     "name": "stdout",
     "output_type": "stream",
     "text": [
      "CV Accuracy: 0.5775 (+/- 0.0077)\n",
      "CV F1: 0.5775 (+/- 0.0077)\n",
      "CV Logloss: 2.0927 (+/- 0.0383)\n"
     ]
    }
   ],
   "source": [
    "model_lr_o = Pipeline([('tfidf1', tfidf2), ('lr', LogisticRegression(class_weight=\"balanced\"))])\n",
    "results_lr_o = cross_validate(model_lr_o, X_train, y_train, cv=kfolds, scoring=scoring, n_jobs=-1)\n",
    "print(\"CV Accuracy: {:0.4f} (+/- {:0.4f})\".format(np.mean(results_lr_o['test_acc']),\n",
    "                                                          np.std(results_lr_o['test_acc'])))\n",
    "print(\"CV F1: {:0.4f} (+/- {:0.4f})\".format(np.mean(results_lr_o['test_f1_micro']),\n",
    "                                                          np.std(results_lr_o['test_f1_micro'])))\n",
    "print(\"CV Logloss: {:0.4f} (+/- {:0.4f})\".format(np.mean(-1*results_lr_o['test_neg_log_loss']),\n",
    "                                                          np.std(-1*results_lr_o['test_neg_log_loss'])))"
   ]
  },
  {
   "cell_type": "code",
   "execution_count": 22,
   "metadata": {
    "collapsed": false
   },
   "outputs": [
    {
     "name": "stdout",
     "output_type": "stream",
     "text": [
      "             precision    recall  f1-score   support\n",
      "\n",
      "       INFJ       0.52      0.26      0.34        47\n",
      "       ENTP       0.45      0.50      0.47       130\n",
      "       INTP       0.45      0.47      0.46        45\n",
      "       INTJ       0.55      0.49      0.52       169\n",
      "       ENTJ       0.40      0.33      0.36         6\n",
      "       ENFJ       0.00      0.00      0.00        11\n",
      "       INFP       1.00      0.22      0.36         9\n",
      "       ENFP       0.70      0.27      0.39        26\n",
      "       ISFP       0.55      0.56      0.55       276\n",
      "       ISTP       0.62      0.68      0.65       367\n",
      "       ISFJ       0.55      0.56      0.55       223\n",
      "       ISTJ       0.55      0.61      0.58       249\n",
      "       ESTP       0.47      0.45      0.46        31\n",
      "       ESFP       0.32      0.37      0.34        43\n",
      "       ESTJ       0.65      0.40      0.50        42\n",
      "       ESFJ       0.44      0.42      0.43        57\n",
      "\n",
      "avg / total       0.55      0.54      0.54      1731\n",
      "\n"
     ]
    }
   ],
   "source": [
    "model_lr_o.fit(X_train, y_train)  \n",
    "test_predicted_lr_o = model_lr_o.predict(X_test)\n",
    "print(metrics.classification_report(y_test, test_predicted_lr_o, target_names=unique_type_list))"
   ]
  },
  {
   "cell_type": "markdown",
   "metadata": {},
   "source": [
    "logistic regression with regularization strength C = 0.005"
   ]
  },
  {
   "cell_type": "code",
   "execution_count": 10,
   "metadata": {
    "collapsed": true
   },
   "outputs": [],
   "source": [
    "model_lr_only = LogisticRegression(class_weight=\"balanced\", C=0.005)\n",
    "model_lr = Pipeline([('tfidf1', tfidf2), ('lr', model_lr_only )])\n",
    "results_lr = cross_validate(model_lr, X_train, y_train, cv=kfolds, scoring=scoring, n_jobs=-1)"
   ]
  },
  {
   "cell_type": "code",
   "execution_count": 11,
   "metadata": {
    "collapsed": false
   },
   "outputs": [
    {
     "name": "stdout",
     "output_type": "stream",
     "text": [
      "CV Accuracy: 0.6568 (+/- 0.0036)\n",
      "CV F1: 0.6568 (+/- 0.0036)\n",
      "CV Logloss: 1.2993 (+/- 0.0109)\n"
     ]
    }
   ],
   "source": [
    "print(\"CV Accuracy: {:0.4f} (+/- {:0.4f})\".format(np.mean(results_lr['test_acc']),\n",
    "                                                          np.std(results_lr['test_acc'])))\n",
    "print(\"CV F1: {:0.4f} (+/- {:0.4f})\".format(np.mean(results_lr['test_f1_micro']),\n",
    "                                                          np.std(results_lr['test_f1_micro'])))\n",
    "print(\"CV Logloss: {:0.4f} (+/- {:0.4f})\".format(np.mean(-1*results_lr['test_neg_log_loss']),\n",
    "                                                          np.std(-1*results_lr['test_neg_log_loss'])))"
   ]
  },
  {
   "cell_type": "code",
   "execution_count": 12,
   "metadata": {
    "collapsed": true
   },
   "outputs": [],
   "source": [
    "model_lr.fit(X_train, y_train)  \n",
    "test_predicted_lr = model_lr.predict(X_test)"
   ]
  },
  {
   "cell_type": "code",
   "execution_count": 16,
   "metadata": {
    "collapsed": false
   },
   "outputs": [
    {
     "name": "stdout",
     "output_type": "stream",
     "text": [
      "             precision    recall  f1-score   support\n",
      "\n",
      "       INFJ       0.51      0.40      0.45        47\n",
      "       ENTP       0.60      0.61      0.61       130\n",
      "       INTP       0.42      0.56      0.48        45\n",
      "       INTJ       0.68      0.62      0.65       169\n",
      "       ENTJ       0.22      0.33      0.27         6\n",
      "       ENFJ       0.08      0.09      0.09        11\n",
      "       INFP       0.67      0.44      0.53         9\n",
      "       ENFP       0.67      0.38      0.49        26\n",
      "       ISFP       0.69      0.61      0.65       276\n",
      "       ISTP       0.73      0.75      0.74       367\n",
      "       ISFJ       0.68      0.67      0.68       223\n",
      "       ISTJ       0.66      0.70      0.68       249\n",
      "       ESTP       0.46      0.61      0.53        31\n",
      "       ESFP       0.42      0.44      0.43        43\n",
      "       ESTJ       0.63      0.62      0.63        42\n",
      "       ESFJ       0.49      0.65      0.56        57\n",
      "\n",
      "avg / total       0.65      0.64      0.64      1731\n",
      "\n"
     ]
    }
   ],
   "source": [
    "print(metrics.classification_report(y_test, test_predicted_lr, target_names=unique_type_list))"
   ]
  },
  {
   "cell_type": "code",
   "execution_count": 27,
   "metadata": {
    "collapsed": false
   },
   "outputs": [
    {
     "name": "stdout",
     "output_type": "stream",
     "text": [
      "CV Accuracy: 0.6568 (+/- 0.0036)\n",
      "CV F1: 0.6568 (+/- 0.0036)\n",
      "CV Logloss: 1.2993 (+/- 0.0109)\n",
      "             precision    recall  f1-score   support\n",
      "\n",
      "       INFJ       0.51      0.40      0.45        47\n",
      "       ENTP       0.60      0.61      0.61       130\n",
      "       INTP       0.42      0.56      0.48        45\n",
      "       INTJ       0.68      0.62      0.65       169\n",
      "       ENTJ       0.22      0.33      0.27         6\n",
      "       ENFJ       0.08      0.09      0.09        11\n",
      "       INFP       0.67      0.44      0.53         9\n",
      "       ENFP       0.67      0.38      0.49        26\n",
      "       ISFP       0.69      0.61      0.65       276\n",
      "       ISTP       0.73      0.75      0.74       367\n",
      "       ISFJ       0.68      0.67      0.68       223\n",
      "       ISTJ       0.66      0.70      0.68       249\n",
      "       ESTP       0.46      0.61      0.53        31\n",
      "       ESFP       0.42      0.44      0.43        43\n",
      "       ESTJ       0.63      0.62      0.63        42\n",
      "       ESFJ       0.49      0.65      0.56        57\n",
      "\n",
      "avg / total       0.65      0.64      0.64      1731\n",
      "\n"
     ]
    }
   ],
   "source": [
    "# l2 regularization \n",
    "model_lr_l2_only = LogisticRegression(class_weight=\"balanced\", C=0.005, penalty = \"l2\")\n",
    "model_lr_l2 = Pipeline([('tfidf1', tfidf2), ('lr', model_lr_l2_only)])\n",
    "results_lr_l2 = cross_validate(model_lr_l2, X_train, y_train, cv=kfolds, scoring=scoring, n_jobs=-1)\n",
    "print(\"CV Accuracy: {:0.4f} (+/- {:0.4f})\".format(np.mean(results_lr_l2['test_acc']),\n",
    "                                                          np.std(results_lr_l2['test_acc'])))\n",
    "print(\"CV F1: {:0.4f} (+/- {:0.4f})\".format(np.mean(results_lr_l2['test_f1_micro']),\n",
    "                                                          np.std(results_lr_l2['test_f1_micro'])))\n",
    "print(\"CV Logloss: {:0.4f} (+/- {:0.4f})\".format(np.mean(-1*results_lr_l2['test_neg_log_loss']),\n",
    "                                                          np.std(-1*results_lr_l2['test_neg_log_loss'])))\n",
    "                                                          \n",
    "                                                          \n",
    "model_lr_l2.fit(X_train, y_train)  \n",
    "test_predicted_lr_l2 = model_lr_l2.predict(X_test)\n",
    "print(metrics.classification_report(y_test, test_predicted_lr_l2, target_names=unique_type_list))"
   ]
  },
  {
   "cell_type": "markdown",
   "metadata": {},
   "source": [
    "Compare coefficients after l2 to model_lr"
   ]
  },
  {
   "cell_type": "code",
   "execution_count": 28,
   "metadata": {
    "collapsed": false
   },
   "outputs": [
    {
     "data": {
      "text/plain": [
       "array([[-0.00739501,  0.0098344 , -0.04395071, ...,  0.01750716,\n",
       "        -0.00645795, -0.01776871],\n",
       "       [ 0.01126405,  0.00780299, -0.0348618 , ..., -0.00593112,\n",
       "        -0.00306147, -0.01587556],\n",
       "       [-0.01415709,  0.00790119, -0.06750588, ..., -0.0218618 ,\n",
       "        -0.00805412, -0.03408169],\n",
       "       ..., \n",
       "       [ 0.04030511, -0.01040178, -0.02188338, ..., -0.01597301,\n",
       "        -0.00132489,  0.06999554],\n",
       "       [-0.02029069,  0.00659794, -0.04063186, ...,  0.01633387,\n",
       "         0.00588759,  0.02858284],\n",
       "       [-0.01769814, -0.02182906, -0.00814406, ..., -0.00023377,\n",
       "         0.00501872, -0.01986842]])"
      ]
     },
     "execution_count": 28,
     "metadata": {},
     "output_type": "execute_result"
    }
   ],
   "source": [
    "model_lr_l2_only.coef_"
   ]
  },
  {
   "cell_type": "code",
   "execution_count": 29,
   "metadata": {
    "collapsed": false
   },
   "outputs": [
    {
     "name": "stdout",
     "output_type": "stream",
     "text": [
      "CV Accuracy: 0.6040 (+/- 0.0101)\n",
      "CV F1: 0.6040 (+/- 0.0101)\n",
      "CV Logloss: 1.7499 (+/- 0.0206)\n",
      "             precision    recall  f1-score   support\n",
      "\n",
      "       INFJ       0.60      0.45      0.51        47\n",
      "       ENTP       0.57      0.54      0.56       130\n",
      "       INTP       0.49      0.56      0.52        45\n",
      "       INTJ       0.72      0.56      0.63       169\n",
      "       ENTJ       0.17      0.50      0.25         6\n",
      "       ENFJ       0.05      0.27      0.09        11\n",
      "       INFP       0.13      0.56      0.21         9\n",
      "       ENFP       0.45      0.54      0.49        26\n",
      "       ISFP       0.66      0.56      0.60       276\n",
      "       ISTP       0.66      0.70      0.68       367\n",
      "       ISFJ       0.67      0.60      0.64       223\n",
      "       ISTJ       0.64      0.61      0.63       249\n",
      "       ESTP       0.45      0.55      0.49        31\n",
      "       ESFP       0.40      0.49      0.44        43\n",
      "       ESTJ       0.53      0.55      0.54        42\n",
      "       ESFJ       0.53      0.54      0.53        57\n",
      "\n",
      "avg / total       0.62      0.59      0.60      1731\n",
      "\n"
     ]
    }
   ],
   "source": [
    "# l1 regularization \n",
    "model_lr_l1_only = LogisticRegression(class_weight=\"balanced\", C=0.005, penalty = \"l1\")\n",
    "model_lr_l1 = Pipeline([('tfidf1', tfidf2), ('lr', model_lr_l1_only)])\n",
    "\n",
    "results_lr_l1 = cross_validate(model_lr_l1, X_train, y_train, cv=kfolds, scoring=scoring, n_jobs=-1)\n",
    "print(\"CV Accuracy: {:0.4f} (+/- {:0.4f})\".format(np.mean(results_lr_l1['test_acc']),\n",
    "                                                          np.std(results_lr_l1['test_acc'])))\n",
    "print(\"CV F1: {:0.4f} (+/- {:0.4f})\".format(np.mean(results_lr_l1['test_f1_micro']),\n",
    "                                                          np.std(results_lr_l1['test_f1_micro'])))\n",
    "print(\"CV Logloss: {:0.4f} (+/- {:0.4f})\".format(np.mean(-1*results_lr_l1['test_neg_log_loss']),\n",
    "                                                          np.std(-1*results_lr_l1['test_neg_log_loss'])))\n",
    "                                                          \n",
    "                                                          \n",
    "model_lr_l1.fit(X_train, y_train)  \n",
    "test_predicted_lr_l1 = model_lr_l1.predict(X_test)\n",
    "print(metrics.classification_report(y_test, test_predicted_lr_l1, target_names=unique_type_list))\n"
   ]
  },
  {
   "cell_type": "code",
   "execution_count": 43,
   "metadata": {
    "collapsed": false
   },
   "outputs": [
    {
     "name": "stdout",
     "output_type": "stream",
     "text": [
      "The dimension of the coefficient matrix is (16, 5000)\n",
      "There are a total of 80000 coefficients\n"
     ]
    }
   ],
   "source": [
    "print 'The dimension of the coefficient matrix is', model_lr_l1_only.coef_.shape\n",
    "total =  model_lr_l1_only.coef_.shape[0] * model_lr_l1_only.coef_.shape[1]\n",
    "print 'There are a total of',total, 'coefficients'"
   ]
  },
  {
   "cell_type": "code",
   "execution_count": 51,
   "metadata": {
    "collapsed": false
   },
   "outputs": [
    {
     "name": "stdout",
     "output_type": "stream",
     "text": [
      "The number of non-zero coefficients are 276\n",
      "Percentage: 0.345 %\n"
     ]
    }
   ],
   "source": [
    "print 'The number of non-zero coefficients are', total - sum(x == 0 for row in model_lr_l1_only.coef_ for x in row)\n",
    "print 'Percentage:', float((total - sum(x == 0 for row in model_lr_l1_only.coef_ for x in row)))/float(total) * 100, '%'"
   ]
  },
  {
   "cell_type": "markdown",
   "metadata": {},
   "source": [
    "## Tree based methods\n",
    "http://scikit-learn.org/stable/modules/generated/sklearn.tree.ExtraTreeClassifier.html"
   ]
  },
  {
   "cell_type": "markdown",
   "metadata": {},
   "source": [
    "## ExtraTreeClassifier"
   ]
  },
  {
   "cell_type": "code",
   "execution_count": 115,
   "metadata": {
    "collapsed": true
   },
   "outputs": [],
   "source": [
    "etc = ExtraTreesClassifier(n_estimators = 20, max_depth=4, n_jobs = -1)\n",
    "tsvd = TruncatedSVD(n_components=10)\n",
    "model_etc = Pipeline([('tfidf1', tfidf2), ('tsvd1', tsvd), ('etc', etc)])"
   ]
  },
  {
   "cell_type": "code",
   "execution_count": 116,
   "metadata": {
    "collapsed": true
   },
   "outputs": [],
   "source": [
    "results_etc = cross_validate(model_etc, X_train, y_train, cv=kfolds, scoring=scoring, n_jobs=-1)"
   ]
  },
  {
   "cell_type": "code",
   "execution_count": 117,
   "metadata": {
    "collapsed": false
   },
   "outputs": [
    {
     "name": "stdout",
     "output_type": "stream",
     "text": [
      "CV Accuracy: 0.2419 (+/- 0.0101)\n",
      "CV F1: 0.2419 (+/- 0.0101)\n",
      "CV Logloss: 2.2172 (+/- 0.0021)\n"
     ]
    }
   ],
   "source": [
    "print(\"CV Accuracy: {:0.4f} (+/- {:0.4f})\".format(np.mean(results_etc['test_acc']),\n",
    "                                                          np.std(results_etc['test_acc'])))\n",
    "print(\"CV F1: {:0.4f} (+/- {:0.4f})\".format(np.mean(results_etc['test_f1_micro']),\n",
    "                                                          np.std(results_etc['test_f1_micro'])))\n",
    "print(\"CV Logloss: {:0.4f} (+/- {:0.4f})\".format(np.mean(-1*results_etc['test_neg_log_loss']),\n",
    "                                                          np.std(-1*results_etc['test_neg_log_loss'])))"
   ]
  },
  {
   "cell_type": "code",
   "execution_count": 118,
   "metadata": {
    "collapsed": true
   },
   "outputs": [],
   "source": [
    "model_etc.fit(X_train, y_train)  \n",
    "test_predicted_etc = model_etc.predict(X_test)"
   ]
  },
  {
   "cell_type": "code",
   "execution_count": 119,
   "metadata": {
    "collapsed": false
   },
   "outputs": [
    {
     "name": "stdout",
     "output_type": "stream",
     "text": [
      "             precision    recall  f1-score   support\n",
      "\n",
      "       INFJ       0.00      0.00      0.00        47\n",
      "       ENTP       0.00      0.00      0.00       130\n",
      "       INTP       0.00      0.00      0.00        45\n",
      "       INTJ       0.00      0.00      0.00       169\n",
      "       ENTJ       0.00      0.00      0.00         6\n",
      "       ENFJ       0.00      0.00      0.00        11\n",
      "       INFP       0.00      0.00      0.00         9\n",
      "       ENFP       0.00      0.00      0.00        26\n",
      "       ISFP       0.45      0.05      0.09       276\n",
      "       ISTP       0.24      0.98      0.38       367\n",
      "       ISFJ       1.00      0.02      0.04       223\n",
      "       ISTJ       0.29      0.21      0.24       249\n",
      "       ESTP       0.00      0.00      0.00        31\n",
      "       ESFP       0.00      0.00      0.00        43\n",
      "       ESTJ       0.00      0.00      0.00        42\n",
      "       ESFJ       0.00      0.00      0.00        57\n",
      "\n",
      "avg / total       0.29      0.25      0.13      1731\n",
      "\n"
     ]
    }
   ],
   "source": [
    "print(metrics.classification_report(y_test, test_predicted_etc, target_names=unique_type_list))"
   ]
  },
  {
   "cell_type": "markdown",
   "metadata": {},
   "source": [
    "## From Decision Tree Classifier"
   ]
  },
  {
   "cell_type": "code",
   "execution_count": 126,
   "metadata": {
    "collapsed": false
   },
   "outputs": [],
   "source": [
    "rf = DecisionTreeClassifier()\n",
    "model_rf = Pipeline([('tfidf1', tfidf2), ('rf', rf)])\n",
    "results_rf = cross_validate(model_rf, X_train, y_train, cv=kfolds, scoring=scoring, n_jobs=-1)"
   ]
  },
  {
   "cell_type": "code",
   "execution_count": 127,
   "metadata": {
    "collapsed": false
   },
   "outputs": [
    {
     "name": "stdout",
     "output_type": "stream",
     "text": [
      "CV Accuracy: 0.4619 (+/- 0.0152)\n",
      "CV F1: 0.4619 (+/- 0.0152)\n",
      "CV Logloss: 18.5373 (+/- 0.5327)\n"
     ]
    }
   ],
   "source": [
    "print(\"CV Accuracy: {:0.4f} (+/- {:0.4f})\".format(np.mean(results_rf['test_acc']),\n",
    "                                                          np.std(results_rf['test_acc'])))\n",
    "print(\"CV F1: {:0.4f} (+/- {:0.4f})\".format(np.mean(results_rf['test_f1_micro']),\n",
    "                                                          np.std(results_rf['test_f1_micro'])))\n",
    "print(\"CV Logloss: {:0.4f} (+/- {:0.4f})\".format(np.mean(-1*results_rf['test_neg_log_loss']),\n",
    "                                                          np.std(-1*results_rf['test_neg_log_loss'])))"
   ]
  },
  {
   "cell_type": "code",
   "execution_count": 128,
   "metadata": {
    "collapsed": true
   },
   "outputs": [],
   "source": [
    "model_rf.fit(X_train, y_train)  \n",
    "test_predicted_rf = model_rf.predict(X_test)"
   ]
  },
  {
   "cell_type": "code",
   "execution_count": 125,
   "metadata": {
    "collapsed": false
   },
   "outputs": [
    {
     "name": "stdout",
     "output_type": "stream",
     "text": [
      "             precision    recall  f1-score   support\n",
      "\n",
      "       INFJ       0.16      0.13      0.14        47\n",
      "       ENTP       0.40      0.48      0.44       130\n",
      "       INTP       0.14      0.09      0.11        45\n",
      "       INTJ       0.50      0.43      0.46       169\n",
      "       ENTJ       0.00      0.00      0.00         6\n",
      "       ENFJ       0.00      0.00      0.00        11\n",
      "       INFP       0.11      0.11      0.11         9\n",
      "       ENFP       0.00      0.00      0.00        26\n",
      "       ISFP       0.47      0.52      0.49       276\n",
      "       ISTP       0.55      0.56      0.55       367\n",
      "       ISFJ       0.47      0.47      0.47       223\n",
      "       ISTJ       0.50      0.53      0.51       249\n",
      "       ESTP       0.22      0.26      0.24        31\n",
      "       ESFP       0.25      0.23      0.24        43\n",
      "       ESTJ       0.32      0.24      0.27        42\n",
      "       ESFJ       0.45      0.37      0.40        57\n",
      "\n",
      "avg / total       0.44      0.45      0.45      1731\n",
      "\n"
     ]
    }
   ],
   "source": [
    "print(metrics.classification_report(y_test, test_predicted_rf, target_names=unique_type_list))"
   ]
  },
  {
   "cell_type": "markdown",
   "metadata": {},
   "source": [
    "## Tune Random Forest Classifier using GridSearchCV"
   ]
  },
  {
   "cell_type": "markdown",
   "metadata": {},
   "source": [
    "https://www.kaggle.com/hadend/tuning-random-forest-parameters\n",
    "\n",
    "max_depth: The maximum depth of the tree. If None, then nodes are expanded until all leaves are pure or until all leaves contain less than min_samples_split samples.\n",
    "max_features : int, float, string or None, optional (default=”auto”)\n",
    "The number of features to consider when looking for the best split"
   ]
  },
  {
   "cell_type": "code",
   "execution_count": 59,
   "metadata": {
    "collapsed": false
   },
   "outputs": [],
   "source": [
    "# tune depths of trees and max features \n",
    "max_features = ['auto', 'sqrt']\n",
    "max_depth = np.arange(8,20,1)\n",
    "parameters = {'rf__max_depth': max_depth,\n",
    "              'rf__max_features': max_features}"
   ]
  },
  {
   "cell_type": "code",
   "execution_count": 60,
   "metadata": {
    "collapsed": false
   },
   "outputs": [],
   "source": [
    "rf = RandomForestClassifier(random_state = 84)\n",
    "model_tune = Pipeline([('tfidf1', tfidf2), ('rf', rf)])"
   ]
  },
  {
   "cell_type": "code",
   "execution_count": 61,
   "metadata": {
    "collapsed": false,
    "scrolled": true
   },
   "outputs": [],
   "source": [
    "gs_rf =  GridSearchCV(model_tune, parameters, n_jobs=-1)"
   ]
  },
  {
   "cell_type": "code",
   "execution_count": 62,
   "metadata": {
    "collapsed": false
   },
   "outputs": [],
   "source": [
    "gs_results = gs_rf.fit(X_train, y_train)"
   ]
  },
  {
   "cell_type": "code",
   "execution_count": 63,
   "metadata": {
    "collapsed": false
   },
   "outputs": [
    {
     "data": {
      "image/png": "[encoded data removed]",
      "text/plain": [
       "<matplotlib.figure.Figure at 0x222ff17d0>"
      ]
     },
     "metadata": {},
     "output_type": "display_data"
    }
   ],
   "source": [
    "scores = [x[1] for x in gs_rf.grid_scores_]\n",
    "scores = np.array(scores).reshape(len(max_features),len(max_depth))\n",
    "\n",
    "for ind, i in enumerate(max_features):\n",
    "    plt.plot(max_depth, scores[ind], label='max_features: ' + str(i))\n",
    "plt.legend()\n",
    "plt.xlabel('Max-depth')\n",
    "plt.ylabel('Mean score')\n",
    "plt.show()"
   ]
  },
  {
   "cell_type": "code",
   "execution_count": 65,
   "metadata": {
    "collapsed": false
   },
   "outputs": [],
   "source": [
    "rf_best = RandomForestClassifier(random_state = 84, max_depth = 16, max_features = 'auto')\n",
    "model_rf_best = model_tune = Pipeline([('tfidf1', tfidf2), ('rf_best', rf_best)])\n",
    "model_rf_best.fit(X_train, y_train)  \n",
    "test_predicted_rf_best = model_rf_best.predict(X_test)"
   ]
  },
  {
   "cell_type": "code",
   "execution_count": 68,
   "metadata": {
    "collapsed": false,
    "scrolled": true
   },
   "outputs": [
    {
     "name": "stdout",
     "output_type": "stream",
     "text": [
      "             precision    recall  f1-score   support\n",
      "\n",
      "       INFJ       0.50      0.04      0.08        47\n",
      "       ENTP       0.46      0.37      0.41       130\n",
      "       INTP       0.30      0.07      0.11        45\n",
      "       INTJ       0.56      0.39      0.46       169\n",
      "       ENTJ       0.00      0.00      0.00         6\n",
      "       ENFJ       0.00      0.00      0.00        11\n",
      "       INFP       0.00      0.00      0.00         9\n",
      "       ENFP       0.00      0.00      0.00        26\n",
      "       ISFP       0.51      0.60      0.55       276\n",
      "       ISTP       0.45      0.76      0.57       367\n",
      "       ISFJ       0.49      0.43      0.46       223\n",
      "       ISTJ       0.47      0.60      0.53       249\n",
      "       ESTP       0.50      0.06      0.11        31\n",
      "       ESFP       0.44      0.09      0.15        43\n",
      "       ESTJ       0.00      0.00      0.00        42\n",
      "       ESFJ       0.58      0.19      0.29        57\n",
      "\n",
      "avg / total       0.46      0.48      0.44      1731\n",
      "\n"
     ]
    },
    {
     "name": "stderr",
     "output_type": "stream",
     "text": [
      "//anaconda/lib/python2.7/site-packages/sklearn/metrics/classification.py:1135: UndefinedMetricWarning:\n",
      "\n",
      "Precision and F-score are ill-defined and being set to 0.0 in labels with no predicted samples.\n",
      "\n"
     ]
    }
   ],
   "source": [
    "print(metrics.classification_report(y_test, test_predicted_rf_best, target_names=unique_type_list))"
   ]
  },
  {
   "cell_type": "markdown",
   "metadata": {},
   "source": [
    "## SVM "
   ]
  },
  {
   "cell_type": "code",
   "execution_count": 8,
   "metadata": {
    "collapsed": false
   },
   "outputs": [
    {
     "data": {
      "text/plain": [
       "0.65049104563835936"
      ]
     },
     "execution_count": 8,
     "metadata": {},
     "output_type": "execute_result"
    }
   ],
   "source": [
    "from sklearn.linear_model import SGDClassifier\n",
    "model_svm = Pipeline([('vect', CountVectorizer()),\n",
    "                     ('tfidf', TfidfTransformer()),\n",
    "                     ('clf', SGDClassifier(loss='hinge', penalty='l2',\n",
    "                                           alpha=1e-3, random_state=42,\n",
    "                                           max_iter=5, tol=None))])\n",
    "model_svm.fit(X_train, y_train)  \n",
    "predicted_svm = model_svm.predict(X_test)\n",
    "np.mean(predicted_svm == y_test)  "
   ]
  },
  {
   "cell_type": "code",
   "execution_count": 9,
   "metadata": {
    "collapsed": true
   },
   "outputs": [],
   "source": [
    "result_svm = cross_validate(model_svm, X_train, y_train, cv=kfolds, scoring='accuracy', n_jobs=-1)"
   ]
  },
  {
   "cell_type": "code",
   "execution_count": 92,
   "metadata": {
    "collapsed": false
   },
   "outputs": [
    {
     "name": "stdout",
     "output_type": "stream",
     "text": [
      "CV Accuracy: 0.6234 (+/- 0.0301)\n"
     ]
    }
   ],
   "source": [
    "# print(result_svm)\n",
    "print(\"CV Accuracy: {:0.4f} (+/- {:0.4f})\".format(np.mean(result_svm['test_score']),\n",
    "                                                           np.std(result_svm['test_score'])))"
   ]
  },
  {
   "cell_type": "code",
   "execution_count": 93,
   "metadata": {
    "collapsed": true
   },
   "outputs": [],
   "source": [
    "model_svm.fit(X_train, y_train)  \n",
    "test_predicted_svm = model_svm.predict(X_test)"
   ]
  },
  {
   "cell_type": "code",
   "execution_count": 94,
   "metadata": {
    "collapsed": false
   },
   "outputs": [
    {
     "name": "stdout",
     "output_type": "stream",
     "text": [
      "             precision    recall  f1-score   support\n",
      "\n",
      "       INFJ       1.00      0.17      0.29        47\n",
      "       ENTP       0.65      0.52      0.58       130\n",
      "       INTP       0.64      0.40      0.49        45\n",
      "       INTJ       0.71      0.60      0.65       169\n",
      "       ENTJ       0.67      0.33      0.44         6\n",
      "       ENFJ       0.00      0.00      0.00        11\n",
      "       INFP       0.00      0.00      0.00         9\n",
      "       ENFP       1.00      0.15      0.27        26\n",
      "       ISFP       0.61      0.68      0.65       276\n",
      "       ISTP       0.63      0.88      0.73       367\n",
      "       ISFJ       0.68      0.70      0.69       223\n",
      "       ISTJ       0.64      0.78      0.70       249\n",
      "       ESTP       0.71      0.39      0.50        31\n",
      "       ESFP       0.71      0.23      0.35        43\n",
      "       ESTJ       0.73      0.38      0.50        42\n",
      "       ESFJ       0.77      0.42      0.55        57\n",
      "\n",
      "avg / total       0.66      0.65      0.63      1731\n",
      "\n"
     ]
    }
   ],
   "source": [
    "print(metrics.classification_report(y_test, test_predicted_svm, target_names=unique_type_list))"
   ]
  },
  {
   "cell_type": "markdown",
   "metadata": {},
   "source": [
    "# Tune SVM with GridSearchcv"
   ]
  },
  {
   "cell_type": "code",
   "execution_count": 10,
   "metadata": {
    "collapsed": true
   },
   "outputs": [],
   "source": [
    "parameters = {'vect__ngram_range': [(1, 1), (1, 2),(1,3)],\n",
    "               'clf__alpha': (1e-2, 1e-3,1e-4,2e-4)}\n",
    "gs_svm = GridSearchCV(model_svm, parameters, n_jobs=-1)"
   ]
  },
  {
   "cell_type": "code",
   "execution_count": 12,
   "metadata": {
    "collapsed": false
   },
   "outputs": [],
   "source": [
    "gs_svm = gs_svm.fit(X_train[:1500], y_train[:1500])"
   ]
  },
  {
   "cell_type": "code",
   "execution_count": 13,
   "metadata": {
    "collapsed": false,
    "scrolled": true
   },
   "outputs": [
    {
     "name": "stdout",
     "output_type": "stream",
     "text": [
      "clf__alpha: 0.001\n",
      "vect__ngram_range: (1, 1)\n"
     ]
    }
   ],
   "source": [
    "for param_name in sorted(parameters.keys()):\n",
    "     print(\"%s: %r\" % (param_name, gs_svm.best_params_[param_name]))"
   ]
  },
  {
   "cell_type": "markdown",
   "metadata": {},
   "source": [
    "### Turns out our original parameters were the best"
   ]
  },
  {
   "cell_type": "markdown",
   "metadata": {},
   "source": [
    "# Examine the relationship between different predictors \n",
    "https://stackoverflow.com/questions/29432629/correlation-matrix-using-pandas"
   ]
  },
  {
   "cell_type": "code",
   "execution_count": 13,
   "metadata": {
    "collapsed": false
   },
   "outputs": [
    {
     "name": "stdout",
     "output_type": "stream",
     "text": [
      "   code                                               text\n",
      "0     8  '<URL> <URL> enfp and intj moments  <URL>  spo...\n",
      "1     3  'I'm finding the lack of me in these posts ver...\n",
      "2    11  'Good one  _____   <URL> Of course, to which I...\n",
      "3    10  'Dear INTP,   I enjoyed our conversation the o...\n",
      "4     2  'You're fired. That's another silly misconcept...\n"
     ]
    }
   ],
   "source": [
    "data = pd.read_csv('final.csv')\n",
    "print data.head()\n",
    "# train test split\n",
    "X_train, X_test, y_train, y_test= train_test_split(data.text, data.code, test_size=0.2, random_state=14)"
   ]
  },
  {
   "cell_type": "code",
   "execution_count": 14,
   "metadata": {
    "collapsed": false
   },
   "outputs": [],
   "source": [
    "# correlation matrix for predictors \n",
    "tfidf2 = CountVectorizer(ngram_range=(1, 1), \n",
    "                         stop_words='english',\n",
    "                         lowercase = True, \n",
    "                         max_features = 500)                         \n",
    "X_train_tfidf = tfidf2.fit_transform(X_train)"
   ]
  },
  {
   "cell_type": "code",
   "execution_count": 15,
   "metadata": {
    "collapsed": false,
    "scrolled": true
   },
   "outputs": [
    {
     "data": {
      "text/plain": [
       "scipy.sparse.csr.csr_matrix"
      ]
     },
     "execution_count": 15,
     "metadata": {},
     "output_type": "execute_result"
    }
   ],
   "source": [
    "type(X_train_tfidf)"
   ]
  },
  {
   "cell_type": "code",
   "execution_count": 16,
   "metadata": {
    "collapsed": true
   },
   "outputs": [],
   "source": [
    "df = pd.DataFrame(X_train_tfidf.todense())"
   ]
  },
  {
   "cell_type": "code",
   "execution_count": 17,
   "metadata": {
    "collapsed": false,
    "scrolled": false
   },
   "outputs": [
    {
     "data": {
      "text/html": [
       "<div>\n",
       "<style>\n",
       "    .dataframe thead tr:only-child th {\n",
       "        text-align: right;\n",
       "    }\n",
       "\n",
       "    .dataframe thead th {\n",
       "        text-align: left;\n",
       "    }\n",
       "\n",
       "    .dataframe tbody tr th {\n",
       "        vertical-align: top;\n",
       "    }\n",
       "</style>\n",
       "<table border=\"1\" class=\"dataframe\">\n",
       "  <thead>\n",
       "    <tr style=\"text-align: right;\">\n",
       "      <th></th>\n",
       "      <th>0</th>\n",
       "      <th>1</th>\n",
       "      <th>2</th>\n",
       "      <th>3</th>\n",
       "      <th>4</th>\n",
       "      <th>5</th>\n",
       "      <th>6</th>\n",
       "      <th>7</th>\n",
       "      <th>8</th>\n",
       "      <th>9</th>\n",
       "      <th>...</th>\n",
       "      <th>490</th>\n",
       "      <th>491</th>\n",
       "      <th>492</th>\n",
       "      <th>493</th>\n",
       "      <th>494</th>\n",
       "      <th>495</th>\n",
       "      <th>496</th>\n",
       "      <th>497</th>\n",
       "      <th>498</th>\n",
       "      <th>499</th>\n",
       "    </tr>\n",
       "  </thead>\n",
       "  <tbody>\n",
       "    <tr>\n",
       "      <th>0</th>\n",
       "      <td>0</td>\n",
       "      <td>0</td>\n",
       "      <td>0</td>\n",
       "      <td>0</td>\n",
       "      <td>0</td>\n",
       "      <td>0</td>\n",
       "      <td>0</td>\n",
       "      <td>0</td>\n",
       "      <td>0</td>\n",
       "      <td>0</td>\n",
       "      <td>...</td>\n",
       "      <td>0</td>\n",
       "      <td>0</td>\n",
       "      <td>0</td>\n",
       "      <td>0</td>\n",
       "      <td>0</td>\n",
       "      <td>0</td>\n",
       "      <td>0</td>\n",
       "      <td>0</td>\n",
       "      <td>0</td>\n",
       "      <td>0</td>\n",
       "    </tr>\n",
       "    <tr>\n",
       "      <th>1</th>\n",
       "      <td>0</td>\n",
       "      <td>0</td>\n",
       "      <td>0</td>\n",
       "      <td>0</td>\n",
       "      <td>0</td>\n",
       "      <td>2</td>\n",
       "      <td>0</td>\n",
       "      <td>0</td>\n",
       "      <td>0</td>\n",
       "      <td>1</td>\n",
       "      <td>...</td>\n",
       "      <td>0</td>\n",
       "      <td>0</td>\n",
       "      <td>5</td>\n",
       "      <td>0</td>\n",
       "      <td>0</td>\n",
       "      <td>0</td>\n",
       "      <td>0</td>\n",
       "      <td>0</td>\n",
       "      <td>0</td>\n",
       "      <td>0</td>\n",
       "    </tr>\n",
       "    <tr>\n",
       "      <th>2</th>\n",
       "      <td>0</td>\n",
       "      <td>0</td>\n",
       "      <td>0</td>\n",
       "      <td>1</td>\n",
       "      <td>0</td>\n",
       "      <td>1</td>\n",
       "      <td>0</td>\n",
       "      <td>0</td>\n",
       "      <td>0</td>\n",
       "      <td>1</td>\n",
       "      <td>...</td>\n",
       "      <td>1</td>\n",
       "      <td>0</td>\n",
       "      <td>0</td>\n",
       "      <td>0</td>\n",
       "      <td>0</td>\n",
       "      <td>0</td>\n",
       "      <td>5</td>\n",
       "      <td>0</td>\n",
       "      <td>0</td>\n",
       "      <td>1</td>\n",
       "    </tr>\n",
       "    <tr>\n",
       "      <th>3</th>\n",
       "      <td>0</td>\n",
       "      <td>0</td>\n",
       "      <td>0</td>\n",
       "      <td>0</td>\n",
       "      <td>0</td>\n",
       "      <td>2</td>\n",
       "      <td>0</td>\n",
       "      <td>0</td>\n",
       "      <td>0</td>\n",
       "      <td>0</td>\n",
       "      <td>...</td>\n",
       "      <td>0</td>\n",
       "      <td>0</td>\n",
       "      <td>0</td>\n",
       "      <td>0</td>\n",
       "      <td>0</td>\n",
       "      <td>0</td>\n",
       "      <td>0</td>\n",
       "      <td>0</td>\n",
       "      <td>0</td>\n",
       "      <td>0</td>\n",
       "    </tr>\n",
       "    <tr>\n",
       "      <th>4</th>\n",
       "      <td>0</td>\n",
       "      <td>0</td>\n",
       "      <td>0</td>\n",
       "      <td>0</td>\n",
       "      <td>0</td>\n",
       "      <td>2</td>\n",
       "      <td>0</td>\n",
       "      <td>1</td>\n",
       "      <td>0</td>\n",
       "      <td>1</td>\n",
       "      <td>...</td>\n",
       "      <td>0</td>\n",
       "      <td>0</td>\n",
       "      <td>0</td>\n",
       "      <td>0</td>\n",
       "      <td>0</td>\n",
       "      <td>0</td>\n",
       "      <td>1</td>\n",
       "      <td>1</td>\n",
       "      <td>0</td>\n",
       "      <td>0</td>\n",
       "    </tr>\n",
       "  </tbody>\n",
       "</table>\n",
       "<p>5 rows × 500 columns</p>\n",
       "</div>"
      ],
      "text/plain": [
       "   0    1    2    3    4    5    6    7    8    9   ...   490  491  492  493  \\\n",
       "0    0    0    0    0    0    0    0    0    0    0 ...     0    0    0    0   \n",
       "1    0    0    0    0    0    2    0    0    0    1 ...     0    0    5    0   \n",
       "2    0    0    0    1    0    1    0    0    0    1 ...     1    0    0    0   \n",
       "3    0    0    0    0    0    2    0    0    0    0 ...     0    0    0    0   \n",
       "4    0    0    0    0    0    2    0    1    0    1 ...     0    0    0    0   \n",
       "\n",
       "   494  495  496  497  498  499  \n",
       "0    0    0    0    0    0    0  \n",
       "1    0    0    0    0    0    0  \n",
       "2    0    0    5    0    0    1  \n",
       "3    0    0    0    0    0    0  \n",
       "4    0    0    1    1    0    0  \n",
       "\n",
       "[5 rows x 500 columns]"
      ]
     },
     "execution_count": 17,
     "metadata": {},
     "output_type": "execute_result"
    }
   ],
   "source": [
    "df.head()"
   ]
  },
  {
   "cell_type": "code",
   "execution_count": 24,
   "metadata": {
    "collapsed": true
   },
   "outputs": [],
   "source": [
    "smallest_df = df.iloc[:, 0:5]"
   ]
  },
  {
   "cell_type": "code",
   "execution_count": 22,
   "metadata": {
    "collapsed": true
   },
   "outputs": [],
   "source": [
    "smaller_df = df.iloc[:,0:25]"
   ]
  },
  {
   "cell_type": "code",
   "execution_count": 23,
   "metadata": {
    "collapsed": false
   },
   "outputs": [
    {
     "data": {
      "text/plain": [
       "<matplotlib.image.AxesImage at 0x21bfc1890>"
      ]
     },
     "execution_count": 23,
     "metadata": {},
     "output_type": "execute_result"
    },
    {
     "data": {
      "image/png": "[encoded data removed]",
      "text/plain": [
       "<matplotlib.figure.Figure at 0x117914f10>"
      ]
     },
     "metadata": {},
     "output_type": "display_data"
    }
   ],
   "source": [
    "plt.matshow(smaller_df.corr())"
   ]
  },
  {
   "cell_type": "markdown",
   "metadata": {},
   "source": [
    "## alternatively we can use sns"
   ]
  },
  {
   "cell_type": "code",
   "execution_count": 25,
   "metadata": {
    "collapsed": false
   },
   "outputs": [
    {
     "data": {
      "text/plain": [
       "<seaborn.axisgrid.PairGrid at 0x1178bbb10>"
      ]
     },
     "execution_count": 25,
     "metadata": {},
     "output_type": "execute_result"
    },
    {
     "data": {
      "image/png": "[encoded data removed]",
      "text/plain": [
       "<matplotlib.figure.Figure at 0x1178bbbd0>"
      ]
     },
     "metadata": {},
     "output_type": "display_data"
    }
   ],
   "source": [
    "# alternative - sns\n",
    "sns.pairplot(smallest_df)"
   ]
  },
  {
   "cell_type": "code",
   "execution_count": 26,
   "metadata": {
    "collapsed": false
   },
   "outputs": [
    {
     "data": {
      "text/plain": [
       "<matplotlib.axes._subplots.AxesSubplot at 0x21cecf2d0>"
      ]
     },
     "execution_count": 26,
     "metadata": {},
     "output_type": "execute_result"
    },
    {
     "data": {
      "image/png": "[encoded data removed]",
      "text/plain": [
       "<matplotlib.figure.Figure at 0x21cc96ad0>"
      ]
     },
     "metadata": {},
     "output_type": "display_data"
    }
   ],
   "source": [
    "f, ax = plt.subplots(figsize=(15, 15))\n",
    "corr = smaller_df.corr()\n",
    "sns.heatmap(corr, mask=np.zeros_like(corr, dtype=np.bool), cmap=sns.diverging_palette(220, 10, as_cmap=True),\n",
    "            square=True, ax=ax)"
   ]
  },
  {
   "cell_type": "code",
   "execution_count": 27,
   "metadata": {
    "collapsed": false
   },
   "outputs": [
    {
     "data": {
      "text/html": [
       "<div>\n",
       "<style>\n",
       "    .dataframe thead tr:only-child th {\n",
       "        text-align: right;\n",
       "    }\n",
       "\n",
       "    .dataframe thead th {\n",
       "        text-align: left;\n",
       "    }\n",
       "\n",
       "    .dataframe tbody tr th {\n",
       "        vertical-align: top;\n",
       "    }\n",
       "</style>\n",
       "<table border=\"1\" class=\"dataframe\">\n",
       "  <thead>\n",
       "    <tr style=\"text-align: right;\">\n",
       "      <th></th>\n",
       "      <th>0</th>\n",
       "      <th>1</th>\n",
       "      <th>2</th>\n",
       "      <th>3</th>\n",
       "      <th>4</th>\n",
       "      <th>5</th>\n",
       "      <th>6</th>\n",
       "      <th>7</th>\n",
       "      <th>8</th>\n",
       "      <th>9</th>\n",
       "      <th>...</th>\n",
       "      <th>15</th>\n",
       "      <th>16</th>\n",
       "      <th>17</th>\n",
       "      <th>18</th>\n",
       "      <th>19</th>\n",
       "      <th>20</th>\n",
       "      <th>21</th>\n",
       "      <th>22</th>\n",
       "      <th>23</th>\n",
       "      <th>24</th>\n",
       "    </tr>\n",
       "  </thead>\n",
       "  <tbody>\n",
       "    <tr>\n",
       "      <th>0</th>\n",
       "      <td>1.000000</td>\n",
       "      <td>0.043661</td>\n",
       "      <td>0.001329</td>\n",
       "      <td>0.017694</td>\n",
       "      <td>0.009781</td>\n",
       "      <td>0.031219</td>\n",
       "      <td>0.015456</td>\n",
       "      <td>0.004989</td>\n",
       "      <td>0.088919</td>\n",
       "      <td>0.087058</td>\n",
       "      <td>...</td>\n",
       "      <td>-0.022563</td>\n",
       "      <td>0.012119</td>\n",
       "      <td>-0.011923</td>\n",
       "      <td>0.021917</td>\n",
       "      <td>-0.009079</td>\n",
       "      <td>-0.002639</td>\n",
       "      <td>0.020856</td>\n",
       "      <td>0.012547</td>\n",
       "      <td>0.007587</td>\n",
       "      <td>-0.002931</td>\n",
       "    </tr>\n",
       "    <tr>\n",
       "      <th>1</th>\n",
       "      <td>0.043661</td>\n",
       "      <td>1.000000</td>\n",
       "      <td>0.017510</td>\n",
       "      <td>0.031503</td>\n",
       "      <td>0.014638</td>\n",
       "      <td>0.038380</td>\n",
       "      <td>0.006493</td>\n",
       "      <td>0.015729</td>\n",
       "      <td>0.048462</td>\n",
       "      <td>0.015281</td>\n",
       "      <td>...</td>\n",
       "      <td>0.036633</td>\n",
       "      <td>-0.006737</td>\n",
       "      <td>0.007125</td>\n",
       "      <td>0.002942</td>\n",
       "      <td>0.012930</td>\n",
       "      <td>0.005651</td>\n",
       "      <td>-0.000829</td>\n",
       "      <td>-0.005449</td>\n",
       "      <td>0.000681</td>\n",
       "      <td>0.055239</td>\n",
       "    </tr>\n",
       "    <tr>\n",
       "      <th>2</th>\n",
       "      <td>0.001329</td>\n",
       "      <td>0.017510</td>\n",
       "      <td>1.000000</td>\n",
       "      <td>0.046452</td>\n",
       "      <td>0.054053</td>\n",
       "      <td>0.085093</td>\n",
       "      <td>0.030350</td>\n",
       "      <td>0.066953</td>\n",
       "      <td>0.039332</td>\n",
       "      <td>0.025344</td>\n",
       "      <td>...</td>\n",
       "      <td>0.046600</td>\n",
       "      <td>-0.011650</td>\n",
       "      <td>0.041255</td>\n",
       "      <td>0.050178</td>\n",
       "      <td>0.046353</td>\n",
       "      <td>0.035242</td>\n",
       "      <td>0.073133</td>\n",
       "      <td>0.039556</td>\n",
       "      <td>0.046494</td>\n",
       "      <td>0.021562</td>\n",
       "    </tr>\n",
       "    <tr>\n",
       "      <th>3</th>\n",
       "      <td>0.017694</td>\n",
       "      <td>0.031503</td>\n",
       "      <td>0.046452</td>\n",
       "      <td>1.000000</td>\n",
       "      <td>0.013998</td>\n",
       "      <td>0.088294</td>\n",
       "      <td>0.035764</td>\n",
       "      <td>0.034060</td>\n",
       "      <td>0.018542</td>\n",
       "      <td>0.044301</td>\n",
       "      <td>...</td>\n",
       "      <td>0.028235</td>\n",
       "      <td>0.009475</td>\n",
       "      <td>0.015108</td>\n",
       "      <td>0.004017</td>\n",
       "      <td>0.031953</td>\n",
       "      <td>0.028377</td>\n",
       "      <td>0.052287</td>\n",
       "      <td>0.035882</td>\n",
       "      <td>0.032968</td>\n",
       "      <td>0.008445</td>\n",
       "    </tr>\n",
       "    <tr>\n",
       "      <th>4</th>\n",
       "      <td>0.009781</td>\n",
       "      <td>0.014638</td>\n",
       "      <td>0.054053</td>\n",
       "      <td>0.013998</td>\n",
       "      <td>1.000000</td>\n",
       "      <td>0.101242</td>\n",
       "      <td>-0.015109</td>\n",
       "      <td>0.011804</td>\n",
       "      <td>0.037034</td>\n",
       "      <td>0.001721</td>\n",
       "      <td>...</td>\n",
       "      <td>0.037899</td>\n",
       "      <td>-0.005659</td>\n",
       "      <td>0.022610</td>\n",
       "      <td>0.019447</td>\n",
       "      <td>0.039004</td>\n",
       "      <td>0.024612</td>\n",
       "      <td>0.020886</td>\n",
       "      <td>0.009068</td>\n",
       "      <td>0.053341</td>\n",
       "      <td>0.013704</td>\n",
       "    </tr>\n",
       "    <tr>\n",
       "      <th>5</th>\n",
       "      <td>0.031219</td>\n",
       "      <td>0.038380</td>\n",
       "      <td>0.085093</td>\n",
       "      <td>0.088294</td>\n",
       "      <td>0.101242</td>\n",
       "      <td>1.000000</td>\n",
       "      <td>0.055763</td>\n",
       "      <td>0.036506</td>\n",
       "      <td>0.024792</td>\n",
       "      <td>0.049890</td>\n",
       "      <td>...</td>\n",
       "      <td>0.086422</td>\n",
       "      <td>0.003003</td>\n",
       "      <td>0.049564</td>\n",
       "      <td>0.043279</td>\n",
       "      <td>0.044662</td>\n",
       "      <td>0.054281</td>\n",
       "      <td>0.046152</td>\n",
       "      <td>0.050613</td>\n",
       "      <td>0.091697</td>\n",
       "      <td>0.064376</td>\n",
       "    </tr>\n",
       "    <tr>\n",
       "      <th>6</th>\n",
       "      <td>0.015456</td>\n",
       "      <td>0.006493</td>\n",
       "      <td>0.030350</td>\n",
       "      <td>0.035764</td>\n",
       "      <td>-0.015109</td>\n",
       "      <td>0.055763</td>\n",
       "      <td>1.000000</td>\n",
       "      <td>0.031777</td>\n",
       "      <td>0.022722</td>\n",
       "      <td>0.007412</td>\n",
       "      <td>...</td>\n",
       "      <td>0.005027</td>\n",
       "      <td>0.008375</td>\n",
       "      <td>0.044060</td>\n",
       "      <td>0.025554</td>\n",
       "      <td>0.021271</td>\n",
       "      <td>0.029891</td>\n",
       "      <td>0.026613</td>\n",
       "      <td>0.011904</td>\n",
       "      <td>0.041961</td>\n",
       "      <td>0.010906</td>\n",
       "    </tr>\n",
       "    <tr>\n",
       "      <th>7</th>\n",
       "      <td>0.004989</td>\n",
       "      <td>0.015729</td>\n",
       "      <td>0.066953</td>\n",
       "      <td>0.034060</td>\n",
       "      <td>0.011804</td>\n",
       "      <td>0.036506</td>\n",
       "      <td>0.031777</td>\n",
       "      <td>1.000000</td>\n",
       "      <td>0.025618</td>\n",
       "      <td>0.059588</td>\n",
       "      <td>...</td>\n",
       "      <td>0.020127</td>\n",
       "      <td>0.035178</td>\n",
       "      <td>0.093438</td>\n",
       "      <td>0.123607</td>\n",
       "      <td>0.078659</td>\n",
       "      <td>0.011763</td>\n",
       "      <td>0.064710</td>\n",
       "      <td>0.019843</td>\n",
       "      <td>0.043513</td>\n",
       "      <td>0.010447</td>\n",
       "    </tr>\n",
       "    <tr>\n",
       "      <th>8</th>\n",
       "      <td>0.088919</td>\n",
       "      <td>0.048462</td>\n",
       "      <td>0.039332</td>\n",
       "      <td>0.018542</td>\n",
       "      <td>0.037034</td>\n",
       "      <td>0.024792</td>\n",
       "      <td>0.022722</td>\n",
       "      <td>0.025618</td>\n",
       "      <td>1.000000</td>\n",
       "      <td>0.075309</td>\n",
       "      <td>...</td>\n",
       "      <td>0.026087</td>\n",
       "      <td>0.026909</td>\n",
       "      <td>0.029547</td>\n",
       "      <td>0.019406</td>\n",
       "      <td>0.016365</td>\n",
       "      <td>0.029709</td>\n",
       "      <td>0.036245</td>\n",
       "      <td>-0.003103</td>\n",
       "      <td>0.019162</td>\n",
       "      <td>0.029480</td>\n",
       "    </tr>\n",
       "    <tr>\n",
       "      <th>9</th>\n",
       "      <td>0.087058</td>\n",
       "      <td>0.015281</td>\n",
       "      <td>0.025344</td>\n",
       "      <td>0.044301</td>\n",
       "      <td>0.001721</td>\n",
       "      <td>0.049890</td>\n",
       "      <td>0.007412</td>\n",
       "      <td>0.059588</td>\n",
       "      <td>0.075309</td>\n",
       "      <td>1.000000</td>\n",
       "      <td>...</td>\n",
       "      <td>0.009270</td>\n",
       "      <td>0.045927</td>\n",
       "      <td>0.047322</td>\n",
       "      <td>0.107658</td>\n",
       "      <td>0.020798</td>\n",
       "      <td>0.009783</td>\n",
       "      <td>0.078633</td>\n",
       "      <td>0.033683</td>\n",
       "      <td>0.039910</td>\n",
       "      <td>-0.007769</td>\n",
       "    </tr>\n",
       "    <tr>\n",
       "      <th>10</th>\n",
       "      <td>-0.000086</td>\n",
       "      <td>0.076105</td>\n",
       "      <td>0.088820</td>\n",
       "      <td>0.087610</td>\n",
       "      <td>0.027240</td>\n",
       "      <td>0.123610</td>\n",
       "      <td>0.065443</td>\n",
       "      <td>0.073169</td>\n",
       "      <td>0.039929</td>\n",
       "      <td>0.022711</td>\n",
       "      <td>...</td>\n",
       "      <td>0.048701</td>\n",
       "      <td>-0.000585</td>\n",
       "      <td>0.023084</td>\n",
       "      <td>0.026505</td>\n",
       "      <td>0.038050</td>\n",
       "      <td>0.011343</td>\n",
       "      <td>0.019398</td>\n",
       "      <td>0.021041</td>\n",
       "      <td>0.043435</td>\n",
       "      <td>0.113770</td>\n",
       "    </tr>\n",
       "    <tr>\n",
       "      <th>11</th>\n",
       "      <td>0.021391</td>\n",
       "      <td>-0.011185</td>\n",
       "      <td>0.046299</td>\n",
       "      <td>0.074210</td>\n",
       "      <td>0.008199</td>\n",
       "      <td>0.023199</td>\n",
       "      <td>0.019380</td>\n",
       "      <td>0.034639</td>\n",
       "      <td>0.011869</td>\n",
       "      <td>0.015008</td>\n",
       "      <td>...</td>\n",
       "      <td>-0.022620</td>\n",
       "      <td>0.041685</td>\n",
       "      <td>0.001400</td>\n",
       "      <td>0.017719</td>\n",
       "      <td>-0.005496</td>\n",
       "      <td>0.013049</td>\n",
       "      <td>0.061180</td>\n",
       "      <td>0.087975</td>\n",
       "      <td>0.030693</td>\n",
       "      <td>-0.014056</td>\n",
       "    </tr>\n",
       "    <tr>\n",
       "      <th>12</th>\n",
       "      <td>-0.005076</td>\n",
       "      <td>-0.012143</td>\n",
       "      <td>0.032566</td>\n",
       "      <td>0.044696</td>\n",
       "      <td>0.036183</td>\n",
       "      <td>0.037368</td>\n",
       "      <td>0.023904</td>\n",
       "      <td>0.003035</td>\n",
       "      <td>-0.007587</td>\n",
       "      <td>0.031032</td>\n",
       "      <td>...</td>\n",
       "      <td>0.010189</td>\n",
       "      <td>0.004475</td>\n",
       "      <td>0.020478</td>\n",
       "      <td>0.001246</td>\n",
       "      <td>0.023309</td>\n",
       "      <td>0.029018</td>\n",
       "      <td>0.027610</td>\n",
       "      <td>0.008266</td>\n",
       "      <td>0.059437</td>\n",
       "      <td>-0.002691</td>\n",
       "    </tr>\n",
       "    <tr>\n",
       "      <th>13</th>\n",
       "      <td>-0.009433</td>\n",
       "      <td>0.018426</td>\n",
       "      <td>0.049532</td>\n",
       "      <td>-0.001183</td>\n",
       "      <td>0.035518</td>\n",
       "      <td>0.054710</td>\n",
       "      <td>0.028114</td>\n",
       "      <td>0.046813</td>\n",
       "      <td>0.023281</td>\n",
       "      <td>0.026159</td>\n",
       "      <td>...</td>\n",
       "      <td>0.046838</td>\n",
       "      <td>-0.001480</td>\n",
       "      <td>0.136193</td>\n",
       "      <td>0.079928</td>\n",
       "      <td>0.080871</td>\n",
       "      <td>0.008514</td>\n",
       "      <td>-0.001615</td>\n",
       "      <td>-0.002299</td>\n",
       "      <td>0.021554</td>\n",
       "      <td>0.089035</td>\n",
       "    </tr>\n",
       "    <tr>\n",
       "      <th>14</th>\n",
       "      <td>-0.024255</td>\n",
       "      <td>0.005858</td>\n",
       "      <td>0.043349</td>\n",
       "      <td>0.065243</td>\n",
       "      <td>0.003060</td>\n",
       "      <td>0.038439</td>\n",
       "      <td>0.012423</td>\n",
       "      <td>0.136386</td>\n",
       "      <td>-0.003646</td>\n",
       "      <td>0.045274</td>\n",
       "      <td>...</td>\n",
       "      <td>0.021138</td>\n",
       "      <td>0.007125</td>\n",
       "      <td>0.053999</td>\n",
       "      <td>0.047743</td>\n",
       "      <td>0.057929</td>\n",
       "      <td>0.019854</td>\n",
       "      <td>0.046894</td>\n",
       "      <td>0.012980</td>\n",
       "      <td>0.002164</td>\n",
       "      <td>0.002594</td>\n",
       "    </tr>\n",
       "    <tr>\n",
       "      <th>15</th>\n",
       "      <td>-0.022563</td>\n",
       "      <td>0.036633</td>\n",
       "      <td>0.046600</td>\n",
       "      <td>0.028235</td>\n",
       "      <td>0.037899</td>\n",
       "      <td>0.086422</td>\n",
       "      <td>0.005027</td>\n",
       "      <td>0.020127</td>\n",
       "      <td>0.026087</td>\n",
       "      <td>0.009270</td>\n",
       "      <td>...</td>\n",
       "      <td>1.000000</td>\n",
       "      <td>0.008417</td>\n",
       "      <td>0.062828</td>\n",
       "      <td>0.023606</td>\n",
       "      <td>0.056396</td>\n",
       "      <td>0.042862</td>\n",
       "      <td>0.017808</td>\n",
       "      <td>0.004425</td>\n",
       "      <td>0.032170</td>\n",
       "      <td>0.057106</td>\n",
       "    </tr>\n",
       "    <tr>\n",
       "      <th>16</th>\n",
       "      <td>0.012119</td>\n",
       "      <td>-0.006737</td>\n",
       "      <td>-0.011650</td>\n",
       "      <td>0.009475</td>\n",
       "      <td>-0.005659</td>\n",
       "      <td>0.003003</td>\n",
       "      <td>0.008375</td>\n",
       "      <td>0.035178</td>\n",
       "      <td>0.026909</td>\n",
       "      <td>0.045927</td>\n",
       "      <td>...</td>\n",
       "      <td>0.008417</td>\n",
       "      <td>1.000000</td>\n",
       "      <td>0.010722</td>\n",
       "      <td>-0.006789</td>\n",
       "      <td>0.003470</td>\n",
       "      <td>0.028740</td>\n",
       "      <td>0.009740</td>\n",
       "      <td>0.033208</td>\n",
       "      <td>0.023305</td>\n",
       "      <td>-0.024804</td>\n",
       "    </tr>\n",
       "    <tr>\n",
       "      <th>17</th>\n",
       "      <td>-0.011923</td>\n",
       "      <td>0.007125</td>\n",
       "      <td>0.041255</td>\n",
       "      <td>0.015108</td>\n",
       "      <td>0.022610</td>\n",
       "      <td>0.049564</td>\n",
       "      <td>0.044060</td>\n",
       "      <td>0.093438</td>\n",
       "      <td>0.029547</td>\n",
       "      <td>0.047322</td>\n",
       "      <td>...</td>\n",
       "      <td>0.062828</td>\n",
       "      <td>0.010722</td>\n",
       "      <td>1.000000</td>\n",
       "      <td>0.170035</td>\n",
       "      <td>0.146682</td>\n",
       "      <td>0.042762</td>\n",
       "      <td>0.057507</td>\n",
       "      <td>0.011934</td>\n",
       "      <td>0.037119</td>\n",
       "      <td>0.045896</td>\n",
       "    </tr>\n",
       "    <tr>\n",
       "      <th>18</th>\n",
       "      <td>0.021917</td>\n",
       "      <td>0.002942</td>\n",
       "      <td>0.050178</td>\n",
       "      <td>0.004017</td>\n",
       "      <td>0.019447</td>\n",
       "      <td>0.043279</td>\n",
       "      <td>0.025554</td>\n",
       "      <td>0.123607</td>\n",
       "      <td>0.019406</td>\n",
       "      <td>0.107658</td>\n",
       "      <td>...</td>\n",
       "      <td>0.023606</td>\n",
       "      <td>-0.006789</td>\n",
       "      <td>0.170035</td>\n",
       "      <td>1.000000</td>\n",
       "      <td>0.116239</td>\n",
       "      <td>0.027794</td>\n",
       "      <td>0.053580</td>\n",
       "      <td>-0.016786</td>\n",
       "      <td>0.025376</td>\n",
       "      <td>0.026804</td>\n",
       "    </tr>\n",
       "    <tr>\n",
       "      <th>19</th>\n",
       "      <td>-0.009079</td>\n",
       "      <td>0.012930</td>\n",
       "      <td>0.046353</td>\n",
       "      <td>0.031953</td>\n",
       "      <td>0.039004</td>\n",
       "      <td>0.044662</td>\n",
       "      <td>0.021271</td>\n",
       "      <td>0.078659</td>\n",
       "      <td>0.016365</td>\n",
       "      <td>0.020798</td>\n",
       "      <td>...</td>\n",
       "      <td>0.056396</td>\n",
       "      <td>0.003470</td>\n",
       "      <td>0.146682</td>\n",
       "      <td>0.116239</td>\n",
       "      <td>1.000000</td>\n",
       "      <td>0.021911</td>\n",
       "      <td>0.029900</td>\n",
       "      <td>-0.018717</td>\n",
       "      <td>0.036205</td>\n",
       "      <td>0.037795</td>\n",
       "    </tr>\n",
       "    <tr>\n",
       "      <th>20</th>\n",
       "      <td>-0.002639</td>\n",
       "      <td>0.005651</td>\n",
       "      <td>0.035242</td>\n",
       "      <td>0.028377</td>\n",
       "      <td>0.024612</td>\n",
       "      <td>0.054281</td>\n",
       "      <td>0.029891</td>\n",
       "      <td>0.011763</td>\n",
       "      <td>0.029709</td>\n",
       "      <td>0.009783</td>\n",
       "      <td>...</td>\n",
       "      <td>0.042862</td>\n",
       "      <td>0.028740</td>\n",
       "      <td>0.042762</td>\n",
       "      <td>0.027794</td>\n",
       "      <td>0.021911</td>\n",
       "      <td>1.000000</td>\n",
       "      <td>0.041345</td>\n",
       "      <td>0.027261</td>\n",
       "      <td>0.052063</td>\n",
       "      <td>0.003895</td>\n",
       "    </tr>\n",
       "    <tr>\n",
       "      <th>21</th>\n",
       "      <td>0.020856</td>\n",
       "      <td>-0.000829</td>\n",
       "      <td>0.073133</td>\n",
       "      <td>0.052287</td>\n",
       "      <td>0.020886</td>\n",
       "      <td>0.046152</td>\n",
       "      <td>0.026613</td>\n",
       "      <td>0.064710</td>\n",
       "      <td>0.036245</td>\n",
       "      <td>0.078633</td>\n",
       "      <td>...</td>\n",
       "      <td>0.017808</td>\n",
       "      <td>0.009740</td>\n",
       "      <td>0.057507</td>\n",
       "      <td>0.053580</td>\n",
       "      <td>0.029900</td>\n",
       "      <td>0.041345</td>\n",
       "      <td>1.000000</td>\n",
       "      <td>0.051231</td>\n",
       "      <td>0.082017</td>\n",
       "      <td>-0.035557</td>\n",
       "    </tr>\n",
       "    <tr>\n",
       "      <th>22</th>\n",
       "      <td>0.012547</td>\n",
       "      <td>-0.005449</td>\n",
       "      <td>0.039556</td>\n",
       "      <td>0.035882</td>\n",
       "      <td>0.009068</td>\n",
       "      <td>0.050613</td>\n",
       "      <td>0.011904</td>\n",
       "      <td>0.019843</td>\n",
       "      <td>-0.003103</td>\n",
       "      <td>0.033683</td>\n",
       "      <td>...</td>\n",
       "      <td>0.004425</td>\n",
       "      <td>0.033208</td>\n",
       "      <td>0.011934</td>\n",
       "      <td>-0.016786</td>\n",
       "      <td>-0.018717</td>\n",
       "      <td>0.027261</td>\n",
       "      <td>0.051231</td>\n",
       "      <td>1.000000</td>\n",
       "      <td>0.042422</td>\n",
       "      <td>-0.043588</td>\n",
       "    </tr>\n",
       "    <tr>\n",
       "      <th>23</th>\n",
       "      <td>0.007587</td>\n",
       "      <td>0.000681</td>\n",
       "      <td>0.046494</td>\n",
       "      <td>0.032968</td>\n",
       "      <td>0.053341</td>\n",
       "      <td>0.091697</td>\n",
       "      <td>0.041961</td>\n",
       "      <td>0.043513</td>\n",
       "      <td>0.019162</td>\n",
       "      <td>0.039910</td>\n",
       "      <td>...</td>\n",
       "      <td>0.032170</td>\n",
       "      <td>0.023305</td>\n",
       "      <td>0.037119</td>\n",
       "      <td>0.025376</td>\n",
       "      <td>0.036205</td>\n",
       "      <td>0.052063</td>\n",
       "      <td>0.082017</td>\n",
       "      <td>0.042422</td>\n",
       "      <td>1.000000</td>\n",
       "      <td>0.001202</td>\n",
       "    </tr>\n",
       "    <tr>\n",
       "      <th>24</th>\n",
       "      <td>-0.002931</td>\n",
       "      <td>0.055239</td>\n",
       "      <td>0.021562</td>\n",
       "      <td>0.008445</td>\n",
       "      <td>0.013704</td>\n",
       "      <td>0.064376</td>\n",
       "      <td>0.010906</td>\n",
       "      <td>0.010447</td>\n",
       "      <td>0.029480</td>\n",
       "      <td>-0.007769</td>\n",
       "      <td>...</td>\n",
       "      <td>0.057106</td>\n",
       "      <td>-0.024804</td>\n",
       "      <td>0.045896</td>\n",
       "      <td>0.026804</td>\n",
       "      <td>0.037795</td>\n",
       "      <td>0.003895</td>\n",
       "      <td>-0.035557</td>\n",
       "      <td>-0.043588</td>\n",
       "      <td>0.001202</td>\n",
       "      <td>1.000000</td>\n",
       "    </tr>\n",
       "  </tbody>\n",
       "</table>\n",
       "<p>25 rows × 25 columns</p>\n",
       "</div>"
      ],
      "text/plain": [
       "          0         1         2         3         4         5         6   \\\n",
       "0   1.000000  0.043661  0.001329  0.017694  0.009781  0.031219  0.015456   \n",
       "1   0.043661  1.000000  0.017510  0.031503  0.014638  0.038380  0.006493   \n",
       "2   0.001329  0.017510  1.000000  0.046452  0.054053  0.085093  0.030350   \n",
       "3   0.017694  0.031503  0.046452  1.000000  0.013998  0.088294  0.035764   \n",
       "4   0.009781  0.014638  0.054053  0.013998  1.000000  0.101242 -0.015109   \n",
       "5   0.031219  0.038380  0.085093  0.088294  0.101242  1.000000  0.055763   \n",
       "6   0.015456  0.006493  0.030350  0.035764 -0.015109  0.055763  1.000000   \n",
       "7   0.004989  0.015729  0.066953  0.034060  0.011804  0.036506  0.031777   \n",
       "8   0.088919  0.048462  0.039332  0.018542  0.037034  0.024792  0.022722   \n",
       "9   0.087058  0.015281  0.025344  0.044301  0.001721  0.049890  0.007412   \n",
       "10 -0.000086  0.076105  0.088820  0.087610  0.027240  0.123610  0.065443   \n",
       "11  0.021391 -0.011185  0.046299  0.074210  0.008199  0.023199  0.019380   \n",
       "12 -0.005076 -0.012143  0.032566  0.044696  0.036183  0.037368  0.023904   \n",
       "13 -0.009433  0.018426  0.049532 -0.001183  0.035518  0.054710  0.028114   \n",
       "14 -0.024255  0.005858  0.043349  0.065243  0.003060  0.038439  0.012423   \n",
       "15 -0.022563  0.036633  0.046600  0.028235  0.037899  0.086422  0.005027   \n",
       "16  0.012119 -0.006737 -0.011650  0.009475 -0.005659  0.003003  0.008375   \n",
       "17 -0.011923  0.007125  0.041255  0.015108  0.022610  0.049564  0.044060   \n",
       "18  0.021917  0.002942  0.050178  0.004017  0.019447  0.043279  0.025554   \n",
       "19 -0.009079  0.012930  0.046353  0.031953  0.039004  0.044662  0.021271   \n",
       "20 -0.002639  0.005651  0.035242  0.028377  0.024612  0.054281  0.029891   \n",
       "21  0.020856 -0.000829  0.073133  0.052287  0.020886  0.046152  0.026613   \n",
       "22  0.012547 -0.005449  0.039556  0.035882  0.009068  0.050613  0.011904   \n",
       "23  0.007587  0.000681  0.046494  0.032968  0.053341  0.091697  0.041961   \n",
       "24 -0.002931  0.055239  0.021562  0.008445  0.013704  0.064376  0.010906   \n",
       "\n",
       "          7         8         9     ...           15        16        17  \\\n",
       "0   0.004989  0.088919  0.087058    ...    -0.022563  0.012119 -0.011923   \n",
       "1   0.015729  0.048462  0.015281    ...     0.036633 -0.006737  0.007125   \n",
       "2   0.066953  0.039332  0.025344    ...     0.046600 -0.011650  0.041255   \n",
       "3   0.034060  0.018542  0.044301    ...     0.028235  0.009475  0.015108   \n",
       "4   0.011804  0.037034  0.001721    ...     0.037899 -0.005659  0.022610   \n",
       "5   0.036506  0.024792  0.049890    ...     0.086422  0.003003  0.049564   \n",
       "6   0.031777  0.022722  0.007412    ...     0.005027  0.008375  0.044060   \n",
       "7   1.000000  0.025618  0.059588    ...     0.020127  0.035178  0.093438   \n",
       "8   0.025618  1.000000  0.075309    ...     0.026087  0.026909  0.029547   \n",
       "9   0.059588  0.075309  1.000000    ...     0.009270  0.045927  0.047322   \n",
       "10  0.073169  0.039929  0.022711    ...     0.048701 -0.000585  0.023084   \n",
       "11  0.034639  0.011869  0.015008    ...    -0.022620  0.041685  0.001400   \n",
       "12  0.003035 -0.007587  0.031032    ...     0.010189  0.004475  0.020478   \n",
       "13  0.046813  0.023281  0.026159    ...     0.046838 -0.001480  0.136193   \n",
       "14  0.136386 -0.003646  0.045274    ...     0.021138  0.007125  0.053999   \n",
       "15  0.020127  0.026087  0.009270    ...     1.000000  0.008417  0.062828   \n",
       "16  0.035178  0.026909  0.045927    ...     0.008417  1.000000  0.010722   \n",
       "17  0.093438  0.029547  0.047322    ...     0.062828  0.010722  1.000000   \n",
       "18  0.123607  0.019406  0.107658    ...     0.023606 -0.006789  0.170035   \n",
       "19  0.078659  0.016365  0.020798    ...     0.056396  0.003470  0.146682   \n",
       "20  0.011763  0.029709  0.009783    ...     0.042862  0.028740  0.042762   \n",
       "21  0.064710  0.036245  0.078633    ...     0.017808  0.009740  0.057507   \n",
       "22  0.019843 -0.003103  0.033683    ...     0.004425  0.033208  0.011934   \n",
       "23  0.043513  0.019162  0.039910    ...     0.032170  0.023305  0.037119   \n",
       "24  0.010447  0.029480 -0.007769    ...     0.057106 -0.024804  0.045896   \n",
       "\n",
       "          18        19        20        21        22        23        24  \n",
       "0   0.021917 -0.009079 -0.002639  0.020856  0.012547  0.007587 -0.002931  \n",
       "1   0.002942  0.012930  0.005651 -0.000829 -0.005449  0.000681  0.055239  \n",
       "2   0.050178  0.046353  0.035242  0.073133  0.039556  0.046494  0.021562  \n",
       "3   0.004017  0.031953  0.028377  0.052287  0.035882  0.032968  0.008445  \n",
       "4   0.019447  0.039004  0.024612  0.020886  0.009068  0.053341  0.013704  \n",
       "5   0.043279  0.044662  0.054281  0.046152  0.050613  0.091697  0.064376  \n",
       "6   0.025554  0.021271  0.029891  0.026613  0.011904  0.041961  0.010906  \n",
       "7   0.123607  0.078659  0.011763  0.064710  0.019843  0.043513  0.010447  \n",
       "8   0.019406  0.016365  0.029709  0.036245 -0.003103  0.019162  0.029480  \n",
       "9   0.107658  0.020798  0.009783  0.078633  0.033683  0.039910 -0.007769  \n",
       "10  0.026505  0.038050  0.011343  0.019398  0.021041  0.043435  0.113770  \n",
       "11  0.017719 -0.005496  0.013049  0.061180  0.087975  0.030693 -0.014056  \n",
       "12  0.001246  0.023309  0.029018  0.027610  0.008266  0.059437 -0.002691  \n",
       "13  0.079928  0.080871  0.008514 -0.001615 -0.002299  0.021554  0.089035  \n",
       "14  0.047743  0.057929  0.019854  0.046894  0.012980  0.002164  0.002594  \n",
       "15  0.023606  0.056396  0.042862  0.017808  0.004425  0.032170  0.057106  \n",
       "16 -0.006789  0.003470  0.028740  0.009740  0.033208  0.023305 -0.024804  \n",
       "17  0.170035  0.146682  0.042762  0.057507  0.011934  0.037119  0.045896  \n",
       "18  1.000000  0.116239  0.027794  0.053580 -0.016786  0.025376  0.026804  \n",
       "19  0.116239  1.000000  0.021911  0.029900 -0.018717  0.036205  0.037795  \n",
       "20  0.027794  0.021911  1.000000  0.041345  0.027261  0.052063  0.003895  \n",
       "21  0.053580  0.029900  0.041345  1.000000  0.051231  0.082017 -0.035557  \n",
       "22 -0.016786 -0.018717  0.027261  0.051231  1.000000  0.042422 -0.043588  \n",
       "23  0.025376  0.036205  0.052063  0.082017  0.042422  1.000000  0.001202  \n",
       "24  0.026804  0.037795  0.003895 -0.035557 -0.043588  0.001202  1.000000  \n",
       "\n",
       "[25 rows x 25 columns]"
      ]
     },
     "execution_count": 27,
     "metadata": {},
     "output_type": "execute_result"
    }
   ],
   "source": [
    "corr"
   ]
  }
 ],
 "metadata": {
  "anaconda-cloud": {},
  "kernelspec": {
   "display_name": "Python [Root]",
   "language": "python",
   "name": "Python [Root]"
  }
 },
 "nbformat": 4,
 "nbformat_minor": 2
}
